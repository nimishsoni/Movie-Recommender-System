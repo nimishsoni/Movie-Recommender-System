{
 "cells": [
  {
   "cell_type": "markdown",
   "id": "aa8c0d7f-f283-4893-9033-df5c231ea7ac",
   "metadata": {
    "id": "aa8c0d7f-f283-4893-9033-df5c231ea7ac"
   },
   "source": [
    "## Recommendation Systems for Movies\n",
    "- Movies listed in the Full MovieLens Dataset.Metadata on over 45,000 movies.\n",
    "- The dataset consists of movies released on or before July 2017.\n",
    "- Data points include cast, crew, plot keywords, budget, revenue, posters, release dates, languages, production companies,    countries, TMDB vote counts and vote averages.\n",
    "- Dataset contain 26 million ratings from over 270,000 users.\n",
    "- Ratings are on a scale of 1-5 and have been obtained from the official GroupLens website\n",
    "  \n",
    "In this notebook, there are the following techniques for providing movie recomendation system explored:\n",
    "- Recommendation based on top __Weighted scores for movies on platform__ - These movies can be recommended under \"__Popular Picks__\"\n",
    "- __Content-based__ recommendation system 1. Genre based filtering: These movies can be recommended as \"__Action Picks__,\" \"__Drama Discoveries__,\" or \"__Comedy Gems__\" etc. 2. Movies recommended based on other movie features can be recommended under \"__Because you watched x__\"\n",
    "- __Collaborative Filtering__ -based recommendation syste: Movies recommended based on collaborative filtering can be placed under \"__Recommended for You__\" or \"__Popular among similar Users__\"\n"
   ]
  },
  {
   "cell_type": "code",
   "execution_count": 8,
   "id": "9d1f83b0-4f38-4a32-8805-e6d2f54096eb",
   "metadata": {
    "id": "9d1f83b0-4f38-4a32-8805-e6d2f54096eb"
   },
   "outputs": [],
   "source": [
    "import pandas as pd\n",
    "import os\n",
    "import matplotlib.pyplot as plt\n",
    "import numpy as np\n",
    "import seaborn as sns\n",
    "from ast import literal_eval\n",
    "from sklearn.metrics import mean_absolute_error, mean_squared_error\n",
    "from surprise import SVD, Reader, Dataset\n",
    "from surprise import Dataset\n",
    "from surprise import Reader\n",
    "from surprise.model_selection import cross_validate, GridSearchCV\n",
    "from sklearn.metrics.pairwise import linear_kernel, cosine_similarity\n",
    "from sklearn.feature_extraction.text import TfidfVectorizer, CountVectorizer\n",
    "from sklearn.decomposition import TruncatedSVD\n",
    "from nltk.stem.snowball import SnowballStemmer\n",
    "from nltk.stem.wordnet import WordNetLemmatizer\n",
    "from nltk.corpus import wordnet, stopwords\n",
    "import warnings; warnings.simplefilter('ignore')"
   ]
  },
  {
   "cell_type": "code",
   "execution_count": 9,
   "id": "MHG2nWyXfmcg",
   "metadata": {
    "colab": {
     "base_uri": "https://localhost:8080/"
    },
    "id": "MHG2nWyXfmcg",
    "outputId": "1652450f-db11-4395-8216-6b914d1c1ac6"
   },
   "outputs": [
    {
     "name": "stdout",
     "output_type": "stream",
     "text": [
      "Mounted at /content/drive\n"
     ]
    }
   ],
   "source": [
    "from google.colab import drive\n",
    "drive.mount('/content/drive')"
   ]
  },
  {
   "cell_type": "code",
   "execution_count": 10,
   "id": "e3a586d3-0c0c-4380-883d-b92c25e2e2c1",
   "metadata": {
    "colab": {
     "base_uri": "https://localhost:8080/"
    },
    "id": "e3a586d3-0c0c-4380-883d-b92c25e2e2c1",
    "outputId": "a022ff7f-3cde-42a9-cff1-bfd12fc11df9"
   },
   "outputs": [
    {
     "data": {
      "text/plain": [
       "['credits.csv',\n",
       " 'movies_metadata.csv',\n",
       " 'links_small.csv',\n",
       " 'links.csv',\n",
       " 'keywords.csv',\n",
       " 'ratings.csv',\n",
       " 'ratings_small.csv']"
      ]
     },
     "execution_count": 10,
     "metadata": {},
     "output_type": "execute_result"
    }
   ],
   "source": [
    "#data_path ='C:/Users/Nimish/Documents/ML Projects/Movie Recommendation - Kaggle/Data'\n",
    "colab_data_path = '/content/drive/MyDrive/ML Projects/Movie Recommendation - Kaggle/Data'\n",
    "csv_files = os.listdir(colab_data_path)\n",
    "csv_files"
   ]
  },
  {
   "cell_type": "code",
   "execution_count": 11,
   "id": "9ac98336-0b00-453f-ae41-66ad89d80240",
   "metadata": {
    "id": "9ac98336-0b00-453f-ae41-66ad89d80240",
    "scrolled": true
   },
   "outputs": [],
   "source": [
    "# Import CSV files and store them in DataFrames\n",
    "for file in csv_files:\n",
    "    file_path = os.path.join(colab_data_path, file)\n",
    "    df_name = file[:-4]  # Remove '.csv' from the file name\n",
    "    #dfs[df_name] = pd.read_csv(file_path)\n",
    "    globals()[f\"{df_name}_df\"] = pd.read_csv(file_path,engine=\"python\")"
   ]
  },
  {
   "cell_type": "code",
   "execution_count": 22,
   "id": "6b29610c-7198-4fc3-9b0d-decdeaaccba0",
   "metadata": {
    "id": "6b29610c-7198-4fc3-9b0d-decdeaaccba0"
   },
   "outputs": [],
   "source": [
    "# Preprocessing Steps\n",
    "movies_metadata_df['id'] = pd.to_numeric(movies_metadata_df['id'], errors='coerce')\n",
    "movies_metadata_df['popularity'] = pd.to_numeric(movies_metadata_df['popularity'], errors='coerce')\n",
    "movies_metadata_df = movies_metadata_df.drop([19730, 29503, 35587])\n",
    "keywords_df['id'] = keywords_df['id'].astype('int')\n",
    "credits_df['id'] = credits_df['id'].astype('int')\n",
    "movies_metadata_df['id'] = movies_metadata_df['id'].astype('int')\n",
    "movies_metadata_df['genres'] = movies_metadata_df['genres'].fillna('[]').apply(literal_eval).apply(lambda x: [i['name'] for i in x] if isinstance(x, list) else [])"
   ]
  },
  {
   "cell_type": "markdown",
   "id": "d1693f86-6207-42d4-91f2-9162e1078a34",
   "metadata": {
    "id": "d1693f86-6207-42d4-91f2-9162e1078a34"
   },
   "source": [
    "## 1. Recommendation based on Top Movies on the platform\n",
    "Weighted scores computed based on votes and popularity"
   ]
  },
  {
   "cell_type": "code",
   "execution_count": 23,
   "id": "fac17098-50e8-41ca-b69d-2132b6e5678b",
   "metadata": {
    "id": "fac17098-50e8-41ca-b69d-2132b6e5678b"
   },
   "outputs": [],
   "source": [
    "genre_series = movies_metadata_df.apply(lambda x: pd.Series(x['genres']),axis=1).stack().reset_index(level=1, drop=True)\n",
    "genre_series.name = 'genre'\n",
    "movies_df = movies_metadata_df.drop('genres', axis=1).join(genre_series)"
   ]
  },
  {
   "cell_type": "markdown",
   "id": "GJIo7L1_tt0x",
   "metadata": {
    "id": "GJIo7L1_tt0x"
   },
   "source": [
    "### 1-a Top movies on the platform based on weighted scores"
   ]
  },
  {
   "cell_type": "code",
   "execution_count": 14,
   "id": "C594FPH9tTF-",
   "metadata": {
    "colab": {
     "base_uri": "https://localhost:8080/"
    },
    "id": "C594FPH9tTF-",
    "outputId": "e9eb52f2-a7ca-44c6-ef45-bf44008577c7"
   },
   "outputs": [
    {
     "name": "stdout",
     "output_type": "stream",
     "text": [
      "                                                   title  movie_score\n",
      "314                             The Shawshank Redemption     8.091968\n",
      "12481                                    The Dark Knight     8.042284\n",
      "834                                        The Godfather     8.005579\n",
      "2843                                          Fight Club     7.996791\n",
      "292                                         Pulp Fiction     7.974433\n",
      "15480                                          Inception     7.919109\n",
      "351                                         Forrest Gump     7.899514\n",
      "22879                                       Interstellar     7.886835\n",
      "1154                             The Empire Strikes Back     7.840799\n",
      "7000       The Lord of the Rings: The Return of the King     7.839113\n",
      "18465                                   The Intouchables     7.820510\n",
      "256                                            Star Wars     7.807039\n",
      "4863   The Lord of the Rings: The Fellowship of the Ring     7.787612\n",
      "46                                                 Se7en     7.783876\n",
      "5814               The Lord of the Rings: The Two Towers     7.766593\n",
      "1225                                  Back to the Future     7.737477\n",
      "23753                            Guardians of the Galaxy     7.736786\n",
      "24860                                 The Imitation Game     7.729188\n",
      "2458                                          The Matrix     7.725947\n",
      "359                                        The Lion King     7.719535\n",
      "22131                            The Wolf of Wall Street     7.691766\n",
      "30315                                         Inside Out     7.691216\n",
      "13605                               Inglourious Basterds     7.688714\n",
      "17437       Harry Potter and the Deathly Hallows: Part 2     7.680047\n",
      "23675                                          Gone Girl     7.677693\n"
     ]
    }
   ],
   "source": [
    "def top_n_movies(n=25):\n",
    "    movies_subset = movies_df[['title','vote_average','vote_count','popularity','id','genre']]\n",
    "    vote_count_threshold = 5000\n",
    "    movies_subset = movies_subset[movies_subset['vote_count']>vote_count_threshold]\n",
    "    average_rating = movies_subset['vote_average'].mean()\n",
    "    movies_subset['movie_score'] = (movies_subset['vote_average'] * movies_subset['vote_count'] + average_rating*vote_count_threshold_gen)/(movies_subset['vote_count']+vote_count_threshold_gen)\n",
    "    top_movies = movies_subset.sort_values(by = 'movie_score',ascending = False).head(n)\n",
    "    return top_movies\n",
    "popular_movies = top_n_movies()\n",
    "print(popular_movies[['title','movie_score']])"
   ]
  },
  {
   "cell_type": "markdown",
   "id": "3b30c019-1870-4e64-b927-30bfab841f80",
   "metadata": {
    "id": "3b30c019-1870-4e64-b927-30bfab841f80"
   },
   "source": [
    "### 1b Movie Recommendations based on Genre and weighted scores"
   ]
  },
  {
   "cell_type": "code",
   "execution_count": 25,
   "id": "8ad4795c-d6f1-4b48-8cd9-6e379ab7be56",
   "metadata": {
    "colab": {
     "base_uri": "https://localhost:8080/"
    },
    "id": "8ad4795c-d6f1-4b48-8cd9-6e379ab7be56",
    "outputId": "b93f72b3-a958-41b2-b283-7714f4995231"
   },
   "outputs": [
    {
     "name": "stdout",
     "output_type": "stream",
     "text": [
      "(3049, 24) (336, 6)\n",
      "                                       title  movie_score            genre\n",
      "1154                 The Empire Strikes Back     8.070198  Science Fiction\n",
      "15480                              Inception     8.045561  Science Fiction\n",
      "22879                           Interstellar     8.032108  Science Fiction\n",
      "256                                Star Wars     7.990979  Science Fiction\n",
      "1225                      Back to the Future     7.889679  Science Fiction\n",
      "23753                Guardians of the Galaxy     7.834045  Science Fiction\n",
      "2458                              The Matrix     7.827607  Science Fiction\n",
      "1163                      A Clockwork Orange     7.810923  Science Fiction\n",
      "1167                      Return of the Jedi     7.768240  Science Fiction\n",
      "1171                                   Alien     7.763062  Science Fiction\n",
      "22168                                    Her     7.752926  Science Fiction\n",
      "536                             Blade Runner     7.739960  Science Fiction\n",
      "7208   Eternal Sunshine of the Spotless Mind     7.737141  Science Fiction\n",
      "897                    2001: A Space Odyssey     7.706027  Science Fiction\n",
      "582               Terminator 2: Judgment Day     7.575691  Science Fiction\n",
      "15530                             Mr. Nobody     7.572281  Science Fiction\n",
      "21460                             About Time     7.556268  Science Fiction\n",
      "1158                                  Aliens     7.543085  Science Fiction\n",
      "30051                            The Martian     7.531572  Science Fiction\n",
      "42170                                  Logan     7.520198  Science Fiction\n",
      "23053    Captain America: The Winter Soldier     7.514833  Science Fiction\n",
      "23465                       Edge of Tomorrow     7.500812  Science Fiction\n",
      "475                            Jurassic Park     7.500394  Science Fiction\n",
      "24482                             Ex Machina     7.498647  Science Fiction\n",
      "26566         Guardians of the Galaxy Vol. 2     7.498572  Science Fiction\n"
     ]
    }
   ],
   "source": [
    "def top_n_genre_movies(gen, n=25):\n",
    "    movies_gen = movies_df[movies_df['genre']==gen]\n",
    "    movies_subset = movies_gen[['title','vote_average','vote_count','popularity','id','genre']]\n",
    "    vote_count_threshold_gen = 500\n",
    "    movies_subset = movies_subset[movies_subset['vote_count']>vote_count_threshold_gen]\n",
    "    print(movies_gen.shape,movies_subset.shape)\n",
    "    average_rating = movies_subset['vote_average'].mean()\n",
    "    movies_subset['movie_score'] = (movies_subset['vote_average'] * movies_subset['vote_count'] + average_rating*vote_count_threshold_gen)/(movies_subset['vote_count']+vote_count_threshold_gen)\n",
    "    top_movies = movies_subset.sort_values(by = 'movie_score',ascending = False).head(n)\n",
    "    return top_movies\n",
    "movies_recommendation_genre = top_n_genre_movies('Science Fiction')\n",
    "print(movies_recommendation_genre[['title','movie_score','genre']])"
   ]
  },
  {
   "cell_type": "markdown",
   "id": "1474e2b2-73b6-4dcd-88b3-e6ea7da5b15d",
   "metadata": {
    "id": "1474e2b2-73b6-4dcd-88b3-e6ea7da5b15d"
   },
   "source": [
    "## 2. Content based Recommendation System for Movies\n",
    "- Here we will use other features related to user and movies to further personalize the recommendations.\n",
    "- An examples include using movie genre, Cast, Director to suit User preference\n"
   ]
  },
  {
   "cell_type": "markdown",
   "id": "Sv6uddWlCCcQ",
   "metadata": {
    "id": "Sv6uddWlCCcQ"
   },
   "source": [
    "###2a. Based on Genre, cast, director and keywords of a movie"
   ]
  },
  {
   "cell_type": "code",
   "execution_count": 34,
   "id": "n4zmNspvhI_J",
   "metadata": {
    "id": "n4zmNspvhI_J"
   },
   "outputs": [],
   "source": [
    "def merge_dataframes(df1, df2, on='id'):\n",
    "  \"\"\"Merges two DataFrames based on a specific column.\"\"\"\n",
    "  merged_df = df1.merge(df2, on=on)\n",
    "  return merged_df\n",
    "\n",
    "def filter_dataframe(df, target_column, filter_df):\n",
    "  \"\"\"Filters a DataFrame based on values in another DataFrame.\"\"\"\n",
    "  filtered_df = df[df[target_column].isin(filter_df['movieId'])]\n",
    "  return filtered_df\n",
    "\n",
    "def literal_eval_column(df, column_name):\n",
    "  \"\"\"Applies literal_eval function to a specific column in a DataFrame.\"\"\"\n",
    "  df[column_name] = df[column_name].apply(literal_eval)\n",
    "  return df\n",
    "\n",
    "# Merge DataFrames\n",
    "movies_merged_df = merge_dataframes(movies_metadata_df, credits_df)\n",
    "movies_merged_df = merge_dataframes(movies_merged_df, keywords_df)\n",
    "\n",
    "# Filter DataFrames\n",
    "movies_merged_short = filter_dataframe(movies_merged_df, 'id', links_small_df)\n",
    "\n",
    "# Apply literal_eval\n",
    "movies_merged_short = literal_eval_column(movies_merged_short, 'cast')\n",
    "movies_merged_short = literal_eval_column(movies_merged_short, 'crew')\n",
    "movies_merged_short = literal_eval_column(movies_merged_short, 'keywords')"
   ]
  },
  {
   "cell_type": "code",
   "execution_count": 35,
   "id": "c87ea5e6-ec57-452b-91cd-e05b1941b59d",
   "metadata": {
    "id": "c87ea5e6-ec57-452b-91cd-e05b1941b59d"
   },
   "outputs": [],
   "source": [
    "def director_crew(data):\n",
    "    for item in data:\n",
    "        if item[\"job\"] == \"Director\":\n",
    "            return item[\"name\"]\n",
    "    return np.nan\n",
    "\n",
    "# Get director names\n",
    "movies_merged_short[\"director\"] = movies_merged_short[\"crew\"].apply(director_crew)\n",
    "\n",
    "# Extract and limit cast names to top3\n",
    "movies_merged_short[\"cast\"] = movies_merged_short[\"cast\"].apply(lambda x: [i[\"name\"].lower().replace(\" \", \"\") for i in x if isinstance(x, list)][:3])\n",
    "\n",
    "# Extract and normalize keywords\n",
    "movies_merged_short[\"keywords\"] = movies_merged_short[\"keywords\"].apply(lambda x: [i[\"name\"].lower() for i in x if isinstance(x, list)])\n",
    "\n",
    "# Enumerate directors\n",
    "movies_merged_short[\"director\"] = movies_merged_short[\"director\"].astype(\"str\").apply(lambda x: x.lower().replace(\" \", \"\")).apply(lambda x: [x]*3)"
   ]
  },
  {
   "cell_type": "code",
   "execution_count": 36,
   "id": "900faf59-d01f-4411-9789-b335618572f1",
   "metadata": {
    "id": "900faf59-d01f-4411-9789-b335618572f1"
   },
   "outputs": [],
   "source": [
    "def get_recommendations(title):\n",
    "    idx = indices[title]\n",
    "    sim_scores = list(enumerate(cosine_sim[idx]))\n",
    "    filtered_scores = [arr for arr in sim_scores if arr[0] != idx]\n",
    "    print(len(sim_scores), len(filtered_scores))\n",
    "    filtered_scores = sorted(filtered_scores, key=lambda x: x[1], reverse=True)\n",
    "    filtered_scores = filtered_scores[1:31]\n",
    "    movie_indices = [i[0] for i in filtered_scores]\n",
    "    return titles.iloc[movie_indices]"
   ]
  },
  {
   "cell_type": "code",
   "execution_count": 37,
   "id": "6e1f62f5-ffb3-4d24-b150-19ecef9600a0",
   "metadata": {
    "id": "6e1f62f5-ffb3-4d24-b150-19ecef9600a0",
    "scrolled": true
   },
   "outputs": [],
   "source": [
    "# Define stop words and stemmer\n",
    "stop_words = set(stopwords.words('english'))\n",
    "stemmer = SnowballStemmer('english')\n",
    "\n",
    "def preprocess_keywords(keywords):\n",
    "    preprocessed_keywords = []\n",
    "    for keyword in keywords:\n",
    "        # Lowercase, remove stop words, and stem\n",
    "        if keyword.lower() not in stop_words:\n",
    "            preprocessed_keywords.append(stemmer.stem(keyword.lower().replace(\" \", \"\")))\n",
    "    return preprocessed_keywords\n",
    "\n",
    "# Apply preprocessing to all keywords\n",
    "movies_merged_short['keywords'] = movies_merged_short['keywords'].apply(preprocess_keywords)\n",
    "\n",
    "# Combine features and join\n",
    "movies_merged_short['movies_meta'] = movies_merged_short['keywords'] + movies_merged_short['cast'] + movies_merged_short['director'] + movies_merged_short['genres']\n",
    "movies_merged_short['movies_meta'] = movies_merged_short['movies_meta'].apply(lambda x: ' '.join(x))\n",
    "\n",
    "# Create CountVectorizer with preprocessed keywords\n",
    "count = CountVectorizer(analyzer='word', ngram_range=(1, 2), min_df=0.10, stop_words='english')\n",
    "count_matrix = count.fit_transform(movies_merged_short['movies_meta'])\n",
    "#svd = TruncatedSVD(n_components=4)\n",
    "#reduced_matrix = svd.fit_transform(count_matrix)\n",
    "#count_matrix = reduced_matrix"
   ]
  },
  {
   "cell_type": "code",
   "execution_count": null,
   "id": "0a55f489-ae42-4167-a11a-a32f601c8c58",
   "metadata": {
    "id": "0a55f489-ae42-4167-a11a-a32f601c8c58"
   },
   "outputs": [],
   "source": [
    "#reduced_matrix = reduced_matrix.astype(np.float16)\n",
    "#count_matrix = reduced_matrix\n",
    "#cosine_sim = cosine_similarity(count_matrix, count_matrix)"
   ]
  },
  {
   "cell_type": "code",
   "execution_count": 38,
   "id": "f54cdc81-ab95-4319-8418-9b87c4f50b86",
   "metadata": {
    "id": "f54cdc81-ab95-4319-8418-9b87c4f50b86"
   },
   "outputs": [],
   "source": [
    "def check_and_convert_matrix(matrix):\n",
    "  \"\"\"\n",
    "  Checks if the range of a sparse matrix is within (-32768, 32767) and reduces it to int16 if possible.\n",
    "\n",
    "  Args:\n",
    "    matrix: A sparse matrix.\n",
    "\n",
    "  Returns:\n",
    "    A converted sparse matrix (int16) if possible, otherwise the original matrix.\n",
    "  \"\"\"\n",
    "  # Check if data type is already int16\n",
    "  if matrix.dtype == np.int16:\n",
    "    return matrix\n",
    "\n",
    "  # Check if all values are within the range of int16\n",
    "  if np.all(matrix.data >= -32768) and np.all(matrix.data <= 32767):\n",
    "    # Convert data type to int16\n",
    "    return matrix.astype(np.int16)\n",
    "  else:\n",
    "    print(\"Warning: Data range exceeds the range of int16. Using original data type.\")\n",
    "    return matrix\n",
    "\n",
    "converted_matrix = check_and_convert_matrix(count_matrix)"
   ]
  },
  {
   "cell_type": "code",
   "execution_count": 39,
   "id": "1cd4d32b-6884-4623-9c11-6f363bb0a099",
   "metadata": {
    "id": "1cd4d32b-6884-4623-9c11-6f363bb0a099"
   },
   "outputs": [],
   "source": [
    "cosine_sim = cosine_similarity(converted_matrix, converted_matrix)\n",
    "movies_merged_short = movies_merged_short.reset_index()\n",
    "titles = movies_merged_short['title']\n",
    "indices = pd.Series(movies_merged_short.index, index=movies_merged_short['title'])"
   ]
  },
  {
   "cell_type": "code",
   "execution_count": 40,
   "id": "xrpFxwcXEcmD",
   "metadata": {
    "colab": {
     "base_uri": "https://localhost:8080/"
    },
    "id": "xrpFxwcXEcmD",
    "outputId": "d413db48-154c-443b-9966-c3dee94fb5e3"
   },
   "outputs": [
    {
     "name": "stdout",
     "output_type": "stream",
     "text": [
      "2858 2857\n"
     ]
    },
    {
     "data": {
      "text/plain": [
       "20                  Taxi Driver\n",
       "57     The Shawshank Redemption\n",
       "91                       Malice\n",
       "133               Trainspotting\n",
       "187            Bonnie and Clyde\n",
       "219       To Kill a Mockingbird\n",
       "225                  GoodFellas\n",
       "230      The Godfather: Part II\n",
       "250                 Stand by Me\n",
       "260              Cool Hand Luke\n",
       "Name: title, dtype: object"
      ]
     },
     "execution_count": 40,
     "metadata": {},
     "output_type": "execute_result"
    }
   ],
   "source": [
    "get_recommendations('The Godfather').head(10)"
   ]
  },
  {
   "cell_type": "markdown",
   "id": "u76-VixtCcxL",
   "metadata": {
    "id": "u76-VixtCcxL"
   },
   "source": [
    "### 2b. Based on Movie overview and tagline"
   ]
  },
  {
   "cell_type": "code",
   "execution_count": 42,
   "id": "72QFXsscC3gj",
   "metadata": {
    "id": "72QFXsscC3gj"
   },
   "outputs": [],
   "source": [
    "movies_merged_short['tagline'] = movies_merged_short['tagline'].fillna('')\n",
    "movies_merged_short['description'] = movies_merged_short['overview'] + movies_merged_short['tagline']\n",
    "movies_merged_short['description'] = movies_merged_short['description'].fillna('')\n",
    "tfidf = TfidfVectorizer(analyzer='word',ngram_range=(1, 2),min_df=0.1, stop_words='english')\n",
    "tfidf_matrix = tfidf.fit_transform(movies_merged_short['description'])"
   ]
  },
  {
   "cell_type": "code",
   "execution_count": 43,
   "id": "Y8GdNY4-F9EM",
   "metadata": {
    "id": "Y8GdNY4-F9EM"
   },
   "outputs": [],
   "source": [
    "cosine_sim = linear_kernel(tfidf_matrix, tfidf_matrix)\n",
    "movies_merged_short = movies_merged_df.reset_index()\n",
    "titles = movies_merged_short['title']\n",
    "indices = pd.Series(movies_merged_short.index, index=movies_merged_short['title'])"
   ]
  },
  {
   "cell_type": "code",
   "execution_count": 44,
   "id": "83Bq56IhGBOe",
   "metadata": {
    "colab": {
     "base_uri": "https://localhost:8080/"
    },
    "id": "83Bq56IhGBOe",
    "outputId": "d35cfcd7-d545-4029-ec9f-571fc7fedde6"
   },
   "outputs": [
    {
     "name": "stdout",
     "output_type": "stream",
     "text": [
      "2858 2857\n"
     ]
    },
    {
     "data": {
      "text/plain": [
       "1666            The Winter Guest\n",
       "20                    Get Shorty\n",
       "24             Leaving Las Vegas\n",
       "29                Shanghai Triad\n",
       "39      Cry, the Beloved Country\n",
       "63                 Two If by Sea\n",
       "64                      Bio-Dome\n",
       "74                     Big Bully\n",
       "119      The Boys of St. Vincent\n",
       "146                      Amateur\n",
       "Name: title, dtype: object"
      ]
     },
     "execution_count": 44,
     "metadata": {},
     "output_type": "execute_result"
    }
   ],
   "source": [
    "get_recommendations('The Godfather').head(10)"
   ]
  },
  {
   "cell_type": "markdown",
   "id": "3c9a0d62-e069-47e8-9eb6-393870c30dab",
   "metadata": {
    "id": "3c9a0d62-e069-47e8-9eb6-393870c30dab"
   },
   "source": [
    "## 3. Movies Recommendations using Collaborative Filtering\n",
    "- This model is based on historical interactions of a user and similar interactions with similar users.\n",
    "- The approach movie ratings provided by users in ratings_small dataset due to limitation in compute available."
   ]
  },
  {
   "cell_type": "code",
   "execution_count": null,
   "id": "0d7c3000-625f-434f-a98b-41c365dfdecc",
   "metadata": {
    "id": "0d7c3000-625f-434f-a98b-41c365dfdecc"
   },
   "outputs": [],
   "source": [
    "ratings_small_df1 = ratings_small_df.merge(movies_metadata_df[['id','title','vote_average','vote_count']], left_on = 'movieId', right_on = 'id')\n",
    "ratings_small_df1.dropna()\n",
    "movieid_list = ratings_small_df1['movieId'].unique()  # Number of unique movies in the dataset\n",
    "movie_dict = movies_metadata_df.set_index('id')['title'].to_dict()"
   ]
  },
  {
   "cell_type": "code",
   "execution_count": null,
   "id": "5cc957d4-d0b8-4b16-b5b0-3af71370a657",
   "metadata": {
    "id": "5cc957d4-d0b8-4b16-b5b0-3af71370a657",
    "outputId": "1a95f72f-0e93-4ffa-b4f3-7372ffdf6c25",
    "scrolled": true
   },
   "outputs": [
    {
     "name": "stdout",
     "output_type": "stream",
     "text": [
      "Evaluating RMSE, MAE of algorithm SVD on 5 split(s).\n",
      "\n",
      "                  Fold 1  Fold 2  Fold 3  Fold 4  Fold 5  Mean    Std     \n",
      "RMSE (testset)    0.9038  0.8955  0.8870  0.9040  0.9060  0.8993  0.0071  \n",
      "MAE (testset)     0.6980  0.6902  0.6869  0.6932  0.6983  0.6933  0.0044  \n",
      "Fit time          0.47    0.49    0.50    0.48    0.49    0.49    0.01    \n",
      "Test time         0.05    0.06    0.06    0.34    0.07    0.11    0.11    \n"
     ]
    },
    {
     "data": {
      "text/plain": [
       "<surprise.prediction_algorithms.matrix_factorization.SVD at 0x2bda3a0a430>"
      ]
     },
     "execution_count": 52,
     "metadata": {},
     "output_type": "execute_result"
    }
   ],
   "source": [
    "#SVD model training using small movie ratings data\n",
    "reader = Reader(rating_scale=(0.5, 5))\n",
    "data = Dataset.load_from_df(ratings_small_df1[['userId', 'movieId', 'rating']], reader)\n",
    "\n",
    "model = SVD()\n",
    "\n",
    "cross_validate(model, data, measures=['RMSE', 'MAE'], cv=5, verbose=True)\n",
    "\n",
    "trainset = data.build_full_trainset()\n",
    "model.fit(trainset)"
   ]
  },
  {
   "cell_type": "code",
   "execution_count": null,
   "id": "b496f398-1e35-4f96-a073-f51e37f20320",
   "metadata": {
    "id": "b496f398-1e35-4f96-a073-f51e37f20320"
   },
   "outputs": [],
   "source": [
    "def get_top_n_recommendations(model, user_id, n=10):\n",
    "    '''Top n movie recommendations using SVD Model trained earlier'''\n",
    "    recommendations = []\n",
    "\n",
    "    for movie_id in movieid_list:  # Assuming items are numbered from 1 to num_items\n",
    "        prediction = model.predict(user_id, movie_id)\n",
    "        recommendations.append((movie_id, prediction.est))\n",
    "\n",
    "    # Sort recommendations by estimated rating\n",
    "    recommendations.sort(key=lambda x: x[1], reverse=True)\n",
    "\n",
    "    top_n_recommendations = recommendations[:n]\n",
    "    return top_n_recommendations"
   ]
  },
  {
   "cell_type": "code",
   "execution_count": null,
   "id": "7ac651ef-4094-44ed-a468-612a844a8a12",
   "metadata": {
    "id": "7ac651ef-4094-44ed-a468-612a844a8a12",
    "outputId": "4e209084-5e89-4383-f0c7-df73233091fa"
   },
   "outputs": [
    {
     "name": "stdout",
     "output_type": "stream",
     "text": [
      "Top Recommendations for User 20\n",
      "Movie ID: 497 Movie Title: The Green Mile Estimated Rating: 4.2359730745092525\n",
      "Movie ID: 2690 Movie Title: Irma la Douce Estimated Rating: 4.030973885525562\n",
      "Movie ID: 745 Movie Title: The Sixth Sense Estimated Rating: 4.030033013918051\n",
      "Movie ID: 31658 Movie Title: Hour of the Gun Estimated Rating: 3.9853126545778776\n",
      "Movie ID: 780 Movie Title: The Passion of Joan of Arc Estimated Rating: 3.9427401685184984\n",
      "Movie ID: 6016 Movie Title: The Good Thief Estimated Rating: 3.903978025827506\n",
      "Movie ID: 2186 Movie Title: Within the Woods Estimated Rating: 3.896197227940051\n",
      "Movie ID: 1248 Movie Title: Hannibal Rising Estimated Rating: 3.8716323968341726\n",
      "Movie ID: 1411 Movie Title: The Rapture Estimated Rating: 3.850195779939997\n",
      "Movie ID: 534 Movie Title: Terminator Salvation Estimated Rating: 3.8328057360044996\n"
     ]
    }
   ],
   "source": [
    "# Recommended movies for user ID 20\n",
    "user_id = 20\n",
    "top_recommendations = get_top_n_recommendations(model, user_id, n=10)\n",
    "print(\"Top Recommendations for User\", user_id)\n",
    "for movieId, estimated_rating in top_recommendations:\n",
    "    movie_title = movie_dict[movieId]\n",
    "    print(\"Movie ID:\", movieId,\"Movie Title:\", movie_title, \"Estimated Rating:\", estimated_rating)"
   ]
  },
  {
   "cell_type": "code",
   "execution_count": null,
   "id": "eb438bf3-47e6-461d-890a-3f0732379a1b",
   "metadata": {
    "id": "eb438bf3-47e6-461d-890a-3f0732379a1b",
    "outputId": "7f5c6bb4-f2ea-4223-a5ec-376daa4efc68"
   },
   "outputs": [
    {
     "name": "stdout",
     "output_type": "stream",
     "text": [
      "Top Recommendations for User 500\n",
      "Movie ID: 2324 Movie Title: Local Color Estimated Rating: 4.032201646044475\n",
      "Movie ID: 509 Movie Title: Notting Hill Estimated Rating: 3.9735308188924394\n",
      "Movie ID: 4011 Movie Title: Beetlejuice Estimated Rating: 3.8673547109993383\n",
      "Movie ID: 1280 Movie Title: 3-Iron Estimated Rating: 3.8385455670474733\n",
      "Movie ID: 318 Movie Title: The Million Dollar Hotel Estimated Rating: 3.827051600964442\n",
      "Movie ID: 916 Movie Title: Bullitt Estimated Rating: 3.8164827831196706\n",
      "Movie ID: 3035 Movie Title: Frankenstein Estimated Rating: 3.8121605678560586\n",
      "Movie ID: 866 Movie Title: Finding Neverland Estimated Rating: 3.810145469447373\n",
      "Movie ID: 6016 Movie Title: The Good Thief Estimated Rating: 3.8100216776290226\n",
      "Movie ID: 2359 Movie Title: Sicko Estimated Rating: 3.759862369850388\n"
     ]
    }
   ],
   "source": [
    "# Recommended movies for user ID 500\n",
    "user_id = 500\n",
    "top_recommendations = get_top_n_recommendations(model, user_id, n=10)\n",
    "print(\"Top Recommendations for User\", user_id)\n",
    "for movieId, estimated_rating in top_recommendations:\n",
    "    movie_title = movie_dict[movieId]\n",
    "    print(\"Movie ID:\", movieId,\"Movie Title:\", movie_title, \"Estimated Rating:\", estimated_rating)"
   ]
  }
 ],
 "metadata": {
  "colab": {
   "provenance": []
  },
  "kernelspec": {
   "display_name": "Python 3 (ipykernel)",
   "language": "python",
   "name": "python3"
  },
  "language_info": {
   "codemirror_mode": {
    "name": "ipython",
    "version": 3
   },
   "file_extension": ".py",
   "mimetype": "text/x-python",
   "name": "python",
   "nbconvert_exporter": "python",
   "pygments_lexer": "ipython3",
   "version": "3.9.18"
  }
 },
 "nbformat": 4,
 "nbformat_minor": 5
}
